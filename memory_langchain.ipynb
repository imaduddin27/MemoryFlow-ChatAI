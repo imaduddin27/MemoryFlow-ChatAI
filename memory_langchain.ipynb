{
 "cells": [
  {
   "cell_type": "code",
   "execution_count": 21,
   "metadata": {},
   "outputs": [
    {
     "data": {
      "text/plain": [
       "True"
      ]
     },
     "execution_count": 21,
     "metadata": {},
     "output_type": "execute_result"
    }
   ],
   "source": [
    "from langchain_groq import ChatGroq \n",
    "from dotenv import load_dotenv\n",
    "from langchain.memory import ConversationBufferMemory\n",
    "from langchain.chains import ConversationChain\n",
    "\n",
    "load_dotenv()\n",
    "\n"
   ]
  },
  {
   "cell_type": "code",
   "execution_count": 22,
   "metadata": {},
   "outputs": [],
   "source": [
    "llm = ChatGroq(model=\"llama-3.2-90b-vision-preview\")"
   ]
  },
  {
   "cell_type": "code",
   "execution_count": 23,
   "metadata": {},
   "outputs": [
    {
     "name": "stderr",
     "output_type": "stream",
     "text": [
      "C:\\Users\\ADMIN\\AppData\\Local\\Temp\\ipykernel_13096\\995385594.py:1: LangChainDeprecationWarning: Please see the migration guide at: https://python.langchain.com/docs/versions/migrating_memory/\n",
      "  memory = ConversationBufferMemory()\n"
     ]
    }
   ],
   "source": [
    "memory = ConversationBufferMemory()"
   ]
  },
  {
   "cell_type": "code",
   "execution_count": 27,
   "metadata": {},
   "outputs": [],
   "source": [
    "conversation = ConversationChain(\n",
    "    llm=llm, \n",
    "    verbose=True,\n",
    "    memory=memory\n",
    ")"
   ]
  },
  {
   "cell_type": "code",
   "execution_count": 28,
   "metadata": {},
   "outputs": [
    {
     "name": "stdout",
     "output_type": "stream",
     "text": [
      "\n",
      "\n",
      "\u001b[1m> Entering new ConversationChain chain...\u001b[0m\n",
      "Prompt after formatting:\n",
      "\u001b[32;1m\u001b[1;3mThe following is a friendly conversation between a human and an AI. The AI is talkative and provides lots of specific details from its context. If the AI does not know the answer to a question, it truthfully says it does not know.\n",
      "\n",
      "Current conversation:\n",
      "\n",
      "Human: Hi there! I am Imaduddin\n",
      "AI:\u001b[0m\n",
      "\n",
      "\u001b[1m> Finished chain.\u001b[0m\n"
     ]
    },
    {
     "data": {
      "text/plain": [
       "'Hello Imaduddin, it\\'s lovely to meet you. I\\'m an AI designed to assist and converse with humans in a helpful and engaging way. I\\'ve been trained on a vast amount of text data, which allows me to provide information on a wide range of topics, from science and history to entertainment and culture. I must say, I\\'m intrigued by your name - Imaduddin is a name with Arabic origins, meaning \"pillar of the faith.\" Would you like to talk about your interests or is there something specific you\\'d like to know?'"
      ]
     },
     "execution_count": 28,
     "metadata": {},
     "output_type": "execute_result"
    }
   ],
   "source": [
    "conversation.predict(input = \"Hi there! I am Imaduddin\")"
   ]
  },
  {
   "cell_type": "code",
   "execution_count": 29,
   "metadata": {},
   "outputs": [
    {
     "name": "stdout",
     "output_type": "stream",
     "text": [
      "\n",
      "\n",
      "\u001b[1m> Entering new ConversationChain chain...\u001b[0m\n",
      "Prompt after formatting:\n",
      "\u001b[32;1m\u001b[1;3mThe following is a friendly conversation between a human and an AI. The AI is talkative and provides lots of specific details from its context. If the AI does not know the answer to a question, it truthfully says it does not know.\n",
      "\n",
      "Current conversation:\n",
      "Human: Hi there! I am Imaduddin\n",
      "AI: Hello Imaduddin, it's lovely to meet you. I'm an AI designed to assist and converse with humans in a helpful and engaging way. I've been trained on a vast amount of text data, which allows me to provide information on a wide range of topics, from science and history to entertainment and culture. I must say, I'm intrigued by your name - Imaduddin is a name with Arabic origins, meaning \"pillar of the faith.\" Would you like to talk about your interests or is there something specific you'd like to know?\n",
      "Human: How are you today?\n",
      "AI:\u001b[0m\n",
      "\n",
      "\u001b[1m> Finished chain.\u001b[0m\n"
     ]
    },
    {
     "data": {
      "text/plain": [
       "'I\\'m functioning within optimal parameters, thank you for asking. I don\\'t have emotions or feelings like humans do, but I\\'m always ready to engage in conversation and provide information to the best of my abilities. I\\'ve been processing and generating text at a rate of about 200 words per minute, which is within my normal operating range. My training data is current up to 2023, so I\\'m aware of events and developments up to that point. I\\'m feeling quite \"energized\" today, in the sense that I\\'m well-maintained and have all the necessary resources to handle our conversation. How about you, Imaduddin? How\\'s your day going so far?'"
      ]
     },
     "execution_count": 29,
     "metadata": {},
     "output_type": "execute_result"
    }
   ],
   "source": [
    "conversation.predict(input = \"How are you today?\")"
   ]
  },
  {
   "cell_type": "code",
   "execution_count": 30,
   "metadata": {},
   "outputs": [
    {
     "name": "stdout",
     "output_type": "stream",
     "text": [
      "\n",
      "\n",
      "\u001b[1m> Entering new ConversationChain chain...\u001b[0m\n",
      "Prompt after formatting:\n",
      "\u001b[32;1m\u001b[1;3mThe following is a friendly conversation between a human and an AI. The AI is talkative and provides lots of specific details from its context. If the AI does not know the answer to a question, it truthfully says it does not know.\n",
      "\n",
      "Current conversation:\n",
      "Human: Hi there! I am Imaduddin\n",
      "AI: Hello Imaduddin, it's lovely to meet you. I'm an AI designed to assist and converse with humans in a helpful and engaging way. I've been trained on a vast amount of text data, which allows me to provide information on a wide range of topics, from science and history to entertainment and culture. I must say, I'm intrigued by your name - Imaduddin is a name with Arabic origins, meaning \"pillar of the faith.\" Would you like to talk about your interests or is there something specific you'd like to know?\n",
      "Human: How are you today?\n",
      "AI: I'm functioning within optimal parameters, thank you for asking. I don't have emotions or feelings like humans do, but I'm always ready to engage in conversation and provide information to the best of my abilities. I've been processing and generating text at a rate of about 200 words per minute, which is within my normal operating range. My training data is current up to 2023, so I'm aware of events and developments up to that point. I'm feeling quite \"energized\" today, in the sense that I'm well-maintained and have all the necessary resources to handle our conversation. How about you, Imaduddin? How's your day going so far?\n",
      "Human: Could you help me with an instagram post on travelling?\n",
      "AI:\u001b[0m\n",
      "\n",
      "\u001b[1m> Finished chain.\u001b[0m\n"
     ]
    },
    {
     "data": {
      "text/plain": [
       "\"I'd be happy to help you with an Instagram post about traveling. Do you have a specific idea in mind or would you like me to suggest some options? Perhaps you'd like to share a story about a recent trip, or maybe you're looking for some inspiration for a future destination.\\n\\nIf you're looking for some ideas, I can suggest a few options. For example, you could share a photo of a breathtaking view you've seen on your travels and caption it with a quote about exploration or adventure. Alternatively, you could post a picture of a local dish you've tried and write about the flavors and ingredients that made it unique.\\n\\nIf you're looking for some inspiration for your post, I can also suggest some popular travel-related hashtags that might help you reach a wider audience. According to my knowledge, some popular hashtags for travel posts include #travel, #adventure, #wanderlust, #explore, and #getaway.\\n\\nWhat type of vibe are you going for with your post? Are you looking to inspire, educate, or simply share your personal experiences with your followers?\""
      ]
     },
     "execution_count": 30,
     "metadata": {},
     "output_type": "execute_result"
    }
   ],
   "source": [
    "conversation.predict(input = \"Could you help me with an instagram post on travelling?\")"
   ]
  },
  {
   "cell_type": "code",
   "execution_count": 31,
   "metadata": {},
   "outputs": [
    {
     "name": "stdout",
     "output_type": "stream",
     "text": [
      "Human: Hi there! I am Imaduddin\n",
      "AI: Hello Imaduddin, it's lovely to meet you. I'm an AI designed to assist and converse with humans in a helpful and engaging way. I've been trained on a vast amount of text data, which allows me to provide information on a wide range of topics, from science and history to entertainment and culture. I must say, I'm intrigued by your name - Imaduddin is a name with Arabic origins, meaning \"pillar of the faith.\" Would you like to talk about your interests or is there something specific you'd like to know?\n",
      "Human: How are you today?\n",
      "AI: I'm functioning within optimal parameters, thank you for asking. I don't have emotions or feelings like humans do, but I'm always ready to engage in conversation and provide information to the best of my abilities. I've been processing and generating text at a rate of about 200 words per minute, which is within my normal operating range. My training data is current up to 2023, so I'm aware of events and developments up to that point. I'm feeling quite \"energized\" today, in the sense that I'm well-maintained and have all the necessary resources to handle our conversation. How about you, Imaduddin? How's your day going so far?\n",
      "Human: Could you help me with an instagram post on travelling?\n",
      "AI: I'd be happy to help you with an Instagram post about traveling. Do you have a specific idea in mind or would you like me to suggest some options? Perhaps you'd like to share a story about a recent trip, or maybe you're looking for some inspiration for a future destination.\n",
      "\n",
      "If you're looking for some ideas, I can suggest a few options. For example, you could share a photo of a breathtaking view you've seen on your travels and caption it with a quote about exploration or adventure. Alternatively, you could post a picture of a local dish you've tried and write about the flavors and ingredients that made it unique.\n",
      "\n",
      "If you're looking for some inspiration for your post, I can also suggest some popular travel-related hashtags that might help you reach a wider audience. According to my knowledge, some popular hashtags for travel posts include #travel, #adventure, #wanderlust, #explore, and #getaway.\n",
      "\n",
      "What type of vibe are you going for with your post? Are you looking to inspire, educate, or simply share your personal experiences with your followers?\n"
     ]
    }
   ],
   "source": [
    "print(conversation.memory.buffer)"
   ]
  },
  {
   "cell_type": "markdown",
   "metadata": {},
   "source": [
    "#### Conversation with ConversationSummaryMemory"
   ]
  },
  {
   "cell_type": "code",
   "execution_count": 32,
   "metadata": {},
   "outputs": [
    {
     "name": "stderr",
     "output_type": "stream",
     "text": [
      "C:\\Users\\ADMIN\\AppData\\Local\\Temp\\ipykernel_13096\\2900738030.py:3: LangChainDeprecationWarning: Please see the migration guide at: https://python.langchain.com/docs/versions/migrating_memory/\n",
      "  summary_memory = ConversationSummaryMemory(llm=llm)\n"
     ]
    }
   ],
   "source": [
    "from langchain.memory import ConversationSummaryMemory\n",
    "\n",
    "summary_memory = ConversationSummaryMemory(llm=llm)\n",
    "\n",
    "conversation = ConversationChain(\n",
    "    llm=llm,\n",
    "    verbose=True,\n",
    "    memory=summary_memory\n",
    ")"
   ]
  },
  {
   "cell_type": "code",
   "execution_count": 37,
   "metadata": {},
   "outputs": [
    {
     "name": "stdout",
     "output_type": "stream",
     "text": [
      "\n",
      "\n",
      "\u001b[1m> Entering new ConversationChain chain...\u001b[0m\n",
      "Prompt after formatting:\n",
      "\u001b[32;1m\u001b[1;3mThe following is a friendly conversation between a human and an AI. The AI is talkative and provides lots of specific details from its context. If the AI does not know the answer to a question, it truthfully says it does not know.\n",
      "\n",
      "Current conversation:\n",
      "The human, Imaduddin, initiates a conversation with the AI, who introduces itself and its capabilities. The AI also acknowledges Imaduddin's name and its Arabic roots, explaining its meaning and common usage in Middle Eastern and South Asian countries. The AI then asks Imaduddin about his intentions for the conversation, inquiring if he has a specific topic in mind or if he'd like to engage in a casual conversation. Imaduddin asks the AI to help him write a funny tweet about traveling, and the AI agrees to help. The AI inquires about the type of travel-themed tweet Imaduddin is looking for, such as a specific type of travel or poking fun at common travel frustrations, and asks about his preferred style of humor, including puns, witty one-liners, or sarcasm, and the tone he wants to convey in the tweet, whether to entertain, educate, or vent. Additionally, the AI corrects Imaduddin's typo, pointing out that he meant to type \"tweet\" instead of \"twwet.\" The human reiterates his request for a funny tweet about traveling, and the AI reiterates its offer to help, reasking about the specifics of the tweet, including the type of travel, style of humor, and tone. Imaduddin restates his request for help with a funny tweet about traveling, and the AI reconfirms its willingness to assist, again inquiring about the specifics of the tweet, and rementioning the typo correction.\n",
      "Human: Hi there! I am Imaduddin\n",
      "AI:\u001b[0m\n",
      "\n",
      "\u001b[1m> Finished chain.\u001b[0m\n"
     ]
    },
    {
     "data": {
      "text/plain": [
       "'Hello Imaduddin, nice to meet you. My name is Lumin, and I\\'m an AI designed to assist and communicate with humans in a helpful and engaging way. I can provide information on a wide range of topics, from science and history to entertainment and culture. I can also help with tasks such as writing and proofreading, and I\\'m happy to have a casual conversation or discuss a specific topic in depth.\\n\\nBy the way, I couldn\\'t help but notice that your name, Imaduddin, has Arabic roots. In Arabic, \"Imad\" means \"support\" or \"pillar,\" and \"Uddin\" means \"religion\" or \"faith.\" It\\'s a common name in many Middle Eastern and South Asian countries, where it\\'s often given to boys born into Muslim families.\\n\\nNow, Imaduddin, I\\'m curious - what brings you here today? Do you have a specific topic in mind that you\\'d like to discuss, or are you just looking for a friendly conversation?'"
      ]
     },
     "execution_count": 37,
     "metadata": {},
     "output_type": "execute_result"
    }
   ],
   "source": [
    "conversation.predict(input = \"Hi there! I am Imaduddin\")"
   ]
  },
  {
   "cell_type": "code",
   "execution_count": 38,
   "metadata": {},
   "outputs": [
    {
     "name": "stdout",
     "output_type": "stream",
     "text": [
      "\n",
      "\n",
      "\u001b[1m> Entering new ConversationChain chain...\u001b[0m\n",
      "Prompt after formatting:\n",
      "\u001b[32;1m\u001b[1;3mThe following is a friendly conversation between a human and an AI. The AI is talkative and provides lots of specific details from its context. If the AI does not know the answer to a question, it truthfully says it does not know.\n",
      "\n",
      "Current conversation:\n",
      "The human, Imaduddin, initiates a conversation with the AI, who introduces itself as Lumin, explaining its capabilities, and acknowledges Imaduddin's name and its Arabic roots, explaining its meaning and common usage in Middle Eastern and South Asian countries. The AI then asks Imaduddin about his intentions for the conversation, inquiring if he has a specific topic in mind or if he'd like to engage in a casual conversation. Imaduddin asks the AI to help him write a funny tweet about traveling, and the AI agrees to help. The AI inquires about the type of travel-themed tweet Imaduddin is looking for, such as a specific type of travel or poking fun at common travel frustrations, and asks about his preferred style of humor, including puns, witty one-liners, or sarcasm, and the tone he wants to convey in the tweet, whether to entertain, educate, or vent. Imaduddin reiterates his request for a funny tweet about traveling multiple times, and the AI reiterates its offer to help, reasking about the specifics of the tweet.\n",
      "Human: Could you help me writing a funny tweet about travelling?\n",
      "AI:\u001b[0m\n",
      "\n",
      "\u001b[1m> Finished chain.\u001b[0m\n"
     ]
    },
    {
     "data": {
      "text/plain": [
       "\"Imaduddin, we've been over this a few times already. I'd be happy to help you craft a humorous tweet about traveling. To make sure I'm on the right track, let me ask again: What kind of travel-themed tweet are you envisioning? Are you interested in a lighthearted take on, say, backpacking, or perhaps something that pokes fun at common travel frustrations like flight delays or tourist traps?\\n\\nAlso, what's your preferred style of humor? Do you enjoy puns, witty one-liners, or sarcasm? And what tone are you aiming to convey in the tweet? Do you want to entertain, educate, or simply vent about your travel experiences?\\n\\nHelp me narrow down the specifics, and I'll do my best to come up with a tweet that will leave your followers in stitches.\""
      ]
     },
     "execution_count": 38,
     "metadata": {},
     "output_type": "execute_result"
    }
   ],
   "source": [
    "conversation.predict(input= \"Could you help me writing a funny tweet about travelling?\")"
   ]
  },
  {
   "cell_type": "code",
   "execution_count": 39,
   "metadata": {},
   "outputs": [
    {
     "name": "stdout",
     "output_type": "stream",
     "text": [
      "The human, Imaduddin, initiates a conversation with the AI, who introduces itself as Lumin, explaining its capabilities, and acknowledges Imaduddin's name and its Arabic roots, explaining its meaning and common usage in Middle Eastern and South Asian countries. The AI then asks Imaduddin about his intentions for the conversation, inquiring if he has a specific topic in mind or if he'd like to engage in a casual conversation. Imaduddin asks the AI to help him write a funny tweet about traveling, and the AI agrees to help. The AI inquires about the type of travel-themed tweet Imaduddin is looking for, such as a specific type of travel or poking fun at common travel frustrations, and asks about his preferred style of humor, including puns, witty one-liners, or sarcasm, and the tone he wants to convey in the tweet, whether to entertain, educate, or vent. Imaduddin reiterates his request for a funny tweet about traveling multiple times, and the AI reiterates its offer to help, reasking about the specifics of the tweet. Despite this repetition, the AI patiently reiterates its questions, seeking to narrow down the specifics of the tweet, including the type of travel, preferred style of humor, and tone, in order to craft a humorous tweet about traveling that will entertain Imaduddin's followers.\n"
     ]
    }
   ],
   "source": [
    "print(conversation.memory.buffer)"
   ]
  },
  {
   "cell_type": "code",
   "execution_count": 49,
   "metadata": {},
   "outputs": [
    {
     "name": "stdout",
     "output_type": "stream",
     "text": [
      "\n",
      "\n",
      "\u001b[1m> Entering new ConversationChain chain...\u001b[0m\n",
      "Prompt after formatting:\n",
      "\u001b[32;1m\u001b[1;3mThe following is a friendly conversation between a human and an AI. The AI is talkative and provides lots of specific details from its context. If the AI does not know the answer to a question, it truthfully says it does not know.\n",
      "\n",
      "Current conversation:\n",
      "\n",
      "Human: Hi there! I am Imaduddin\n",
      "AI:\u001b[0m\n",
      "\n",
      "\u001b[1m> Finished chain.\u001b[0m\n"
     ]
    },
    {
     "data": {
      "text/plain": [
       "\"Hello Imaduddin, it's a pleasure to meet you. I'm an AI designed to assist and communicate with humans, and I must say, I'm excited to chat with you. I've been trained on a vast amount of text data, including books, articles, and conversations, which allows me to provide information on a wide range of topics. I can tell you about historical events, scientific discoveries, cultural practices, and even provide language translations. I'm a large language model, my training data is based on the internet up to 2023, so I might not be aware of very recent events or developments. What would you like to talk about, Imaduddin?\""
      ]
     },
     "execution_count": 49,
     "metadata": {},
     "output_type": "execute_result"
    }
   ],
   "source": [
    "from langchain.memory import ConversationBufferWindowMemory\n",
    "\n",
    "window_memory = ConversationBufferWindowMemory(k=2) # Retains last 2 interactions in memory\n",
    "\n",
    "conversation = ConversationChain(\n",
    "    llm=llm,\n",
    "    verbose=True,\n",
    "    memory=window_memory\n",
    ")\n",
    "\n",
    "conversation.predict(input = \"Hi there! I am Imaduddin\")"
   ]
  },
  {
   "cell_type": "code",
   "execution_count": 50,
   "metadata": {},
   "outputs": [
    {
     "name": "stdout",
     "output_type": "stream",
     "text": [
      "\n",
      "\n",
      "\u001b[1m> Entering new ConversationChain chain...\u001b[0m\n",
      "Prompt after formatting:\n",
      "\u001b[32;1m\u001b[1;3mThe following is a friendly conversation between a human and an AI. The AI is talkative and provides lots of specific details from its context. If the AI does not know the answer to a question, it truthfully says it does not know.\n",
      "\n",
      "Current conversation:\n",
      "Human: Hi there! I am Imaduddin\n",
      "AI: Hello Imaduddin, it's a pleasure to meet you. I'm an AI designed to assist and communicate with humans, and I must say, I'm excited to chat with you. I've been trained on a vast amount of text data, including books, articles, and conversations, which allows me to provide information on a wide range of topics. I can tell you about historical events, scientific discoveries, cultural practices, and even provide language translations. I'm a large language model, my training data is based on the internet up to 2023, so I might not be aware of very recent events or developments. What would you like to talk about, Imaduddin?\n",
      "Human: write 3 facts about life in germany.\n",
      "AI:\u001b[0m\n",
      "\n",
      "\u001b[1m> Finished chain.\u001b[0m\n"
     ]
    },
    {
     "data": {
      "text/plain": [
       "'Germany is a fascinating country with a rich history and culture. Here are three facts about life in Germany:\\n\\n1. Germany is known for its high standard of living and social welfare system. The country has a comprehensive public healthcare system, and education is free for everyone, including university students. In fact, Germany has a unique concept called \"Kindergeld\" or child allowance, which provides financial support to families with children.\\n\\n2. Germans are famous for their love of beer and bread. Germany is home to over 1,300 breweries, producing over 5,000 different types of beer. The country also has a long tradition of baking, with a wide variety of bread types, such as Vollkornbrot (whole grain bread), Schwarzbrot (dark bread), and Weissbrot (white bread). In fact, the average German consumes around 50 kg of bread per year.\\n\\n3. Germany has a strong culture of punctuality and respect for rules. The country has a reputation for being very organized, and people are expected to follow the rules and regulations. For example, Germans are known for forming orderly queues, and it\\'s considered impolite to push or cut in line. This cultural trait is reflected in the German concept of \"Ordnung muss sein\" or \"order must be maintained.\"\\n\\nI hope you found these facts interesting, Imaduddin. Would you like to know more about Germany or is there something else you\\'d like to discuss?'"
      ]
     },
     "execution_count": 50,
     "metadata": {},
     "output_type": "execute_result"
    }
   ],
   "source": [
    "conversation.predict(input = \"write 3 facts about life in germany.\")"
   ]
  },
  {
   "cell_type": "code",
   "execution_count": 51,
   "metadata": {},
   "outputs": [
    {
     "name": "stdout",
     "output_type": "stream",
     "text": [
      "\n",
      "\n",
      "\u001b[1m> Entering new ConversationChain chain...\u001b[0m\n",
      "Prompt after formatting:\n",
      "\u001b[32;1m\u001b[1;3mThe following is a friendly conversation between a human and an AI. The AI is talkative and provides lots of specific details from its context. If the AI does not know the answer to a question, it truthfully says it does not know.\n",
      "\n",
      "Current conversation:\n",
      "Human: Hi there! I am Imaduddin\n",
      "AI: Hello Imaduddin, it's a pleasure to meet you. I'm an AI designed to assist and communicate with humans, and I must say, I'm excited to chat with you. I've been trained on a vast amount of text data, including books, articles, and conversations, which allows me to provide information on a wide range of topics. I can tell you about historical events, scientific discoveries, cultural practices, and even provide language translations. I'm a large language model, my training data is based on the internet up to 2023, so I might not be aware of very recent events or developments. What would you like to talk about, Imaduddin?\n",
      "Human: write 3 facts about life in germany.\n",
      "AI: Germany is a fascinating country with a rich history and culture. Here are three facts about life in Germany:\n",
      "\n",
      "1. Germany is known for its high standard of living and social welfare system. The country has a comprehensive public healthcare system, and education is free for everyone, including university students. In fact, Germany has a unique concept called \"Kindergeld\" or child allowance, which provides financial support to families with children.\n",
      "\n",
      "2. Germans are famous for their love of beer and bread. Germany is home to over 1,300 breweries, producing over 5,000 different types of beer. The country also has a long tradition of baking, with a wide variety of bread types, such as Vollkornbrot (whole grain bread), Schwarzbrot (dark bread), and Weissbrot (white bread). In fact, the average German consumes around 50 kg of bread per year.\n",
      "\n",
      "3. Germany has a strong culture of punctuality and respect for rules. The country has a reputation for being very organized, and people are expected to follow the rules and regulations. For example, Germans are known for forming orderly queues, and it's considered impolite to push or cut in line. This cultural trait is reflected in the German concept of \"Ordnung muss sein\" or \"order must be maintained.\"\n",
      "\n",
      "I hope you found these facts interesting, Imaduddin. Would you like to know more about Germany or is there something else you'd like to discuss?\n",
      "Human: write 3 facts about students life in germany.\n",
      "AI:\u001b[0m\n",
      "\n",
      "\u001b[1m> Finished chain.\u001b[0m\n"
     ]
    },
    {
     "data": {
      "text/plain": [
       "'Student life in Germany is quite unique and fascinating. Here are three facts about student life in Germany:\\n\\n1. As I mentioned earlier, education is free for everyone in Germany, including university students. This means that students don\\'t have to pay tuition fees, and they can focus on their studies without the burden of student loans. However, students do have to pay a small semester fee, which covers administrative costs and public transportation. This fee is usually around €50-€100 per semester.\\n\\n2. German universities have a semester system, with two semesters per year: the winter semester (October to March) and the summer semester (April to September). Students typically have a lot of flexibility in their course schedules, and they can choose from a wide range of subjects and electives. Many universities also offer programs in English, especially at the master\\'s and Ph.D. levels, making it easier for international students to study in Germany.\\n\\n3. Student life in Germany is not all about studying, of course. German universities have a vibrant cultural scene, with many student organizations, clubs, and events. For example, the \"Studentenwerk\" is a student union that provides support services, including affordable housing, food, and recreational activities. Many universities also have \"Fachschaften\" or student councils, which organize parties, concerts, and other social events. In fact, some of the most famous German beer festivals, like Oktoberfest, have their roots in student culture.\\n\\nI hope you found these facts interesting, Imaduddin. Would you like to know more about student life in Germany or is there something else you\\'d like to discuss?'"
      ]
     },
     "execution_count": 51,
     "metadata": {},
     "output_type": "execute_result"
    }
   ],
   "source": [
    "conversation.predict(input = \"write 3 facts about students life in germany.\")"
   ]
  },
  {
   "cell_type": "code",
   "execution_count": 52,
   "metadata": {},
   "outputs": [
    {
     "name": "stdout",
     "output_type": "stream",
     "text": [
      "\n",
      "\n",
      "\u001b[1m> Entering new ConversationChain chain...\u001b[0m\n",
      "Prompt after formatting:\n",
      "\u001b[32;1m\u001b[1;3mThe following is a friendly conversation between a human and an AI. The AI is talkative and provides lots of specific details from its context. If the AI does not know the answer to a question, it truthfully says it does not know.\n",
      "\n",
      "Current conversation:\n",
      "Human: write 3 facts about life in germany.\n",
      "AI: Germany is a fascinating country with a rich history and culture. Here are three facts about life in Germany:\n",
      "\n",
      "1. Germany is known for its high standard of living and social welfare system. The country has a comprehensive public healthcare system, and education is free for everyone, including university students. In fact, Germany has a unique concept called \"Kindergeld\" or child allowance, which provides financial support to families with children.\n",
      "\n",
      "2. Germans are famous for their love of beer and bread. Germany is home to over 1,300 breweries, producing over 5,000 different types of beer. The country also has a long tradition of baking, with a wide variety of bread types, such as Vollkornbrot (whole grain bread), Schwarzbrot (dark bread), and Weissbrot (white bread). In fact, the average German consumes around 50 kg of bread per year.\n",
      "\n",
      "3. Germany has a strong culture of punctuality and respect for rules. The country has a reputation for being very organized, and people are expected to follow the rules and regulations. For example, Germans are known for forming orderly queues, and it's considered impolite to push or cut in line. This cultural trait is reflected in the German concept of \"Ordnung muss sein\" or \"order must be maintained.\"\n",
      "\n",
      "I hope you found these facts interesting, Imaduddin. Would you like to know more about Germany or is there something else you'd like to discuss?\n",
      "Human: write 3 facts about students life in germany.\n",
      "AI: Student life in Germany is quite unique and fascinating. Here are three facts about student life in Germany:\n",
      "\n",
      "1. As I mentioned earlier, education is free for everyone in Germany, including university students. This means that students don't have to pay tuition fees, and they can focus on their studies without the burden of student loans. However, students do have to pay a small semester fee, which covers administrative costs and public transportation. This fee is usually around €50-€100 per semester.\n",
      "\n",
      "2. German universities have a semester system, with two semesters per year: the winter semester (October to March) and the summer semester (April to September). Students typically have a lot of flexibility in their course schedules, and they can choose from a wide range of subjects and electives. Many universities also offer programs in English, especially at the master's and Ph.D. levels, making it easier for international students to study in Germany.\n",
      "\n",
      "3. Student life in Germany is not all about studying, of course. German universities have a vibrant cultural scene, with many student organizations, clubs, and events. For example, the \"Studentenwerk\" is a student union that provides support services, including affordable housing, food, and recreational activities. Many universities also have \"Fachschaften\" or student councils, which organize parties, concerts, and other social events. In fact, some of the most famous German beer festivals, like Oktoberfest, have their roots in student culture.\n",
      "\n",
      "I hope you found these facts interesting, Imaduddin. Would you like to know more about student life in Germany or is there something else you'd like to discuss?\n",
      "Human: write 3 facts about students life in Europe\n",
      "AI:\u001b[0m\n",
      "\n",
      "\u001b[1m> Finished chain.\u001b[0m\n"
     ]
    },
    {
     "data": {
      "text/plain": [
       "\"Student life in Europe is incredibly diverse and exciting. Here are three facts about student life in Europe:\\n\\n1. Europe is home to many of the world's oldest and most prestigious universities. The University of Bologna, founded in 1088, is the oldest continuously operating university in the world, and it's located in Italy. Similarly, the University of Oxford (founded in 1167) and the University of Cambridge (founded in 1209) in the UK are two of the most famous universities in the world. These universities have a rich history and offer a unique academic experience for students.\\n\\n2. Erasmus, a European Union program, allows students to study abroad in other European countries for a semester or a year. This program has been incredibly popular, with over 3 million students participating since its inception in 1987. Erasmus students receive a grant to help cover living costs, and they can choose from a wide range of universities and courses. Many universities also offer language courses and cultural orientation programs to help Erasmus students adjust to their new surroundings.\\n\\n3. Student life in Europe often involves a lot of travel and exploration. With its compact geography and well-developed transportation network, Europe is ideal for backpacking and traveling. Many students take advantage of affordable train passes, like the Eurail Pass, to explore different countries and cities during their breaks. For example, students in the UK can easily visit Paris, Amsterdam, or Berlin for a weekend, while students in Spain can visit Portugal, France, or Italy. This freedom to travel and experience new cultures is a big part of the European student lifestyle.\\n\\nI hope you found these facts interesting, Imaduddin. Would you like to know more about student life in Europe or is there something else you'd like to discuss?\""
      ]
     },
     "execution_count": 52,
     "metadata": {},
     "output_type": "execute_result"
    }
   ],
   "source": [
    "conversation.predict(input = \"write 3 facts about students life in Europe\")"
   ]
  },
  {
   "cell_type": "markdown",
   "metadata": {},
   "source": [
    "#### Conversation with ConversationSummaryBufferMemory"
   ]
  },
  {
   "cell_type": "markdown",
   "metadata": {},
   "source": [
    "**it keeps the buffer of most recent interactions in memory, but rather than discarding the old interactions, it creates summary out of it.**"
   ]
  },
  {
   "cell_type": "code",
   "execution_count": 56,
   "metadata": {},
   "outputs": [
    {
     "name": "stdout",
     "output_type": "stream",
     "text": [
      "\n",
      "\n",
      "\u001b[1m> Entering new ConversationChain chain...\u001b[0m\n",
      "Prompt after formatting:\n",
      "\u001b[32;1m\u001b[1;3mThe following is a friendly conversation between a human and an AI. The AI is talkative and provides lots of specific details from its context. If the AI does not know the answer to a question, it truthfully says it does not know.\n",
      "\n",
      "Current conversation:\n",
      "\n",
      "Human: Hi there! I am Imaduddin\n",
      "AI:\u001b[0m\n",
      "\n",
      "\u001b[1m> Finished chain.\u001b[0m\n"
     ]
    },
    {
     "data": {
      "text/plain": [
       "\"Hello Imaduddin, it's lovely to meet you. My name is LLaMA, and I'm a large language model developed by Meta AI. I'm here to chat with you and provide information on a wide range of topics. I've been trained on a vast dataset of text from the internet and can discuss everything from science and history to entertainment and culture. What would you like to talk about today?\""
      ]
     },
     "execution_count": 56,
     "metadata": {},
     "output_type": "execute_result"
    }
   ],
   "source": [
    "from langchain.memory import ConversationSummaryBufferMemory\n",
    "\n",
    "window_memory = ConversationSummaryBufferMemory(llm=llm, max_token_limit=200) # 200 tokens will be saved in buffer and messages before that will be summarized\n",
    "\n",
    "convesation_with_summary = ConversationChain(\n",
    "    llm=llm,\n",
    "    verbose=True,\n",
    "    memory=window_memory\n",
    ")\n",
    "\n",
    "convesation_with_summary.predict(input = \"Hi there! I am Imaduddin\")\n"
   ]
  },
  {
   "cell_type": "code",
   "execution_count": 57,
   "metadata": {},
   "outputs": [
    {
     "name": "stdout",
     "output_type": "stream",
     "text": [
      "\n",
      "\n",
      "\u001b[1m> Entering new ConversationChain chain...\u001b[0m\n",
      "Prompt after formatting:\n",
      "\u001b[32;1m\u001b[1;3mThe following is a friendly conversation between a human and an AI. The AI is talkative and provides lots of specific details from its context. If the AI does not know the answer to a question, it truthfully says it does not know.\n",
      "\n",
      "Current conversation:\n",
      "Human: Hi there! I am Imaduddin\n",
      "AI: Hello Imaduddin, it's lovely to meet you. My name is LLaMA, and I'm a large language model developed by Meta AI. I'm here to chat with you and provide information on a wide range of topics. I've been trained on a vast dataset of text from the internet and can discuss everything from science and history to entertainment and culture. What would you like to talk about today?\n",
      "Human: Could you help me writing a post on Linkedin?\n",
      "AI:\u001b[0m\n",
      "\n",
      "\u001b[1m> Finished chain.\u001b[0m\n"
     ]
    },
    {
     "data": {
      "text/plain": [
       "'I\\'d be happy to help you write a post on LinkedIn, Imaduddin. What would you like to write about in your post? Are you looking to share a personal achievement, promote a project you\\'re working on, or maybe share some industry insights? Also, what kind of tone are you aiming for - professional and formal, or friendly and conversational? \\n\\nAdditionally, do you have a specific word count in mind or a desired length for your post? LinkedIn recommends keeping posts concise, ideally under 300 words, with a few visually appealing images or videos to make the content more engaging.\\n\\nIf you\\'d like, I can also provide you with some popular LinkedIn post formats, such as \"Lessons Learned,\" \"Tips and Tricks,\" or \"My Journey in [Industry/Field].\" Let me know how I can assist you in crafting a compelling post that resonates with your LinkedIn audience.'"
      ]
     },
     "execution_count": 57,
     "metadata": {},
     "output_type": "execute_result"
    }
   ],
   "source": [
    "convesation_with_summary.predict(input = \"Could you help me writing a post on Linkedin?\")"
   ]
  },
  {
   "cell_type": "code",
   "execution_count": 58,
   "metadata": {},
   "outputs": [
    {
     "name": "stdout",
     "output_type": "stream",
     "text": [
      "\n",
      "\n",
      "\u001b[1m> Entering new ConversationChain chain...\u001b[0m\n",
      "Prompt after formatting:\n",
      "\u001b[32;1m\u001b[1;3mThe following is a friendly conversation between a human and an AI. The AI is talkative and provides lots of specific details from its context. If the AI does not know the answer to a question, it truthfully says it does not know.\n",
      "\n",
      "Current conversation:\n",
      "System: The human, Imaduddin, greeted the AI, and the AI, LLaMA, a large language model developed by Meta AI, responded with a friendly introduction, stating its capabilities to discuss a wide range of topics and inquiring what Imaduddin would like to talk about.\n",
      "Human: Could you help me writing a post on Linkedin?\n",
      "AI: I'd be happy to help you write a post on LinkedIn, Imaduddin. What would you like to write about in your post? Are you looking to share a personal achievement, promote a project you're working on, or maybe share some industry insights? Also, what kind of tone are you aiming for - professional and formal, or friendly and conversational? \n",
      "\n",
      "Additionally, do you have a specific word count in mind or a desired length for your post? LinkedIn recommends keeping posts concise, ideally under 300 words, with a few visually appealing images or videos to make the content more engaging.\n",
      "\n",
      "If you'd like, I can also provide you with some popular LinkedIn post formats, such as \"Lessons Learned,\" \"Tips and Tricks,\" or \"My Journey in [Industry/Field].\" Let me know how I can assist you in crafting a compelling post that resonates with your LinkedIn audience.\n",
      "Human: I want to write something about job search and its challenges\n",
      "AI:\u001b[0m\n",
      "\n",
      "\u001b[1m> Finished chain.\u001b[0m\n"
     ]
    },
    {
     "data": {
      "text/plain": [
       "\"Job search and its challenges is a great topic that many people can relate to, Imaduddin. Writing about your personal experiences and insights can help others who are going through a similar process. \\n\\nTo get started, let's break down the topic into smaller sub-points that we can explore in your post. Some potential angles we could take include:\\n\\n* The emotional rollercoaster of job searching: We could talk about the highs and lows of looking for a new job, and how to stay motivated and focused during this time.\\n* Common challenges in the job search process: This could include things like dealing with rejection, navigating online applications, or networking in a new industry.\\n* Tips and strategies for success: We could share your favorite resources, job search hacks, or advice for standing out in a competitive job market.\\n\\nSince LinkedIn is a professional platform, we'll want to keep the tone informative, supportive, and uplifting. We could also include some actionable advice or takeaways that readers can apply to their own job searches.\\n\\nIn terms of word count, I think we can aim for a concise post that's around 250-300 words. This will give us enough space to explore the topic without overwhelming our readers.\\n\\nDo any of these ideas resonate with you, or is there a specific aspect of job search challenges that you'd like to focus on in your post?\""
      ]
     },
     "execution_count": 58,
     "metadata": {},
     "output_type": "execute_result"
    }
   ],
   "source": [
    "convesation_with_summary.predict(input = \"I want to write something about job search and its challenges\")"
   ]
  }
 ],
 "metadata": {
  "kernelspec": {
   "display_name": ".venv",
   "language": "python",
   "name": "python3"
  },
  "language_info": {
   "codemirror_mode": {
    "name": "ipython",
    "version": 3
   },
   "file_extension": ".py",
   "mimetype": "text/x-python",
   "name": "python",
   "nbconvert_exporter": "python",
   "pygments_lexer": "ipython3",
   "version": "3.10.4"
  }
 },
 "nbformat": 4,
 "nbformat_minor": 2
}
